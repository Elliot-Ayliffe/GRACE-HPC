{
 "cells": [
  {
   "cell_type": "code",
   "execution_count": 2,
   "id": "06471ed5",
   "metadata": {},
   "outputs": [],
   "source": [
    "from gracehpc import jupyter_UI"
   ]
  },
  {
   "cell_type": "code",
   "execution_count": 3,
   "id": "cb0a8328",
   "metadata": {},
   "outputs": [
    {
     "data": {
      "text/html": [
       "\n",
       "    <div style=\"\n",
       "        background-color: #e8f5e9;\n",
       "        border-left: 6px solid #4caf50;\n",
       "        padding: 17px;\n",
       "        border-radius: 8px;\n",
       "        font-family: 'Segoe UI', sans-serif;\n",
       "        margin-bottom: 8px;\n",
       "    \">\n",
       "      <h2 style=\"margin-top: 0; color: #2e7d32; font-size: 2.0em;\">GRACE-HPC 🌱 </h2>\n",
       "      <p style=\"font-size: 1.5em;\"><strong>Green Resource for Assessing Carbon & Energy in HPC</strong></p>\n",
       "     \n",
       "      <div style=\"font-size: 1.1em;\">\n",
       "      <p>This tool estimates the <b>energy consumption, scope 2 and scope 3 carbon emissions</b> of your SLURM HPC jobs.\n",
       "    If energy counters are available, it will use them. Otherwise it will estimate energy and emissions from usage data and cluster-specific TDP values.</p>\n",
       "\n",
       "    <p>Carbon intensity for scope 2 emissions (operational) is retrieved from the regional <a href=\"https://carbonintensity.org.uk\" target=\"_blank\">Carbon Intensity API</a> at the time of job submission. \n",
       "    Scope 3 emissions (embodied) are estimated from the node-hours used by the job, and the scope 3 emissions factor. For Isambard systems and Archer2, these scope 3 factors are calculated from \n",
       "    the total lifecycle scope 3 emissions for each system divided by the total node-hours available over the system's projected lifetime.</p>\n",
       "\n",
       "    <p><b>Use this interactive tool to quickly assess, visualise and explore the carbon footprint of your HPC jobs.</b></p>\n",
       "    <p><b>Note:</b> Estimates are provided for the user's interest only. Please acknowledge the assumptions and limitations outlined in the documentation <a href=\"https://github.com/Elliot-Ayliffe/GRACE-HPC/tree/main\" target=\"_blank\">(Link to GitHub Repository).</a></p>\n",
       "     </div>\n",
       "    </div>\n",
       "    \n",
       "    <div style=\"\n",
       "        background-color: #e3f2fd;\n",
       "        border-left: 6px solid #1976d2;\n",
       "        padding: 17px;\n",
       "        border-radius: 8px;\n",
       "        font-family: 'Segoe UI', sans-serif;\n",
       "        margin-bottom: 10px;\n",
       "    \">\n",
       "    <h2 style=\"margin-top: 0; color: #1565c0; font-size: 1.8em;\">USER GUIDE:</h2>\n",
       "    <ul style=\"font-size: 1.0em; line-height: 1.6;\">\n",
       "        <li style=\"margin-bottom: 13px;\"><strong>Select the job date range</strong> &mdash; choose the start and end dates for which to process jobs.</li>\n",
       "        \n",
       "        <li style=\"margin-bottom: 13px;\"><strong>Enter your HPC Job IDs</strong> &mdash; Choose to include <code>'all_jobs'</code> within the date range or provide a list of job IDs to filter on (<code>'Job IDs'</code>).\n",
       "        <ul>\n",
       "            <li>If you select <code>'Job IDs'</code>, provide a comma-separated list of your job IDs you wish to include (NO SPACES).</li>\n",
       "        </ul>\n",
       "        </li>\n",
       "        \n",
       "        <li style=\"margin-bottom: 13px;\"><strong>Select your HPC region</strong> &mdash; choose the UK region where your HPC system is located to retrieve real-time carbon intensity data from the <a href=\"https://carbonintensity.org.uk\" target=\"_blank\">Carbon Intensity API</a>.\n",
       "        <ul>\n",
       "            <li>E.g. For Isambard systems, select <code>South West England</code> for location-based operational emissions using realtime carbon intensity.</li>\n",
       "        </ul>\n",
       "        \n",
       "        \n",
       "        <li style=\"margin-bottom: 13px;\"><strong>Scope 3 emissions</strong> &mdash; select whether to include Scope 3 (embodied) emissions within the calculations. HPC systems available include:\n",
       "        <ul>\n",
       "            <li><code>IsambardAI</code></li>\n",
       "            <li><code>Isambard3</code></li>\n",
       "            <li><code>Archer2</code></li>\n",
       "            <li>Or provide a custom numeric value (e.g., <code>51</code> gCO₂e/node-hour) for other HPC systems.</li>\n",
       "        </ul>\n",
       "        The default is <code>no_scope3</code>, which means only Scope 2 (operational) emissions will be calculated.\n",
       "        </li>\n",
       "        \n",
       "        <li style=\"margin-bottom: 20px;\"><strong>Optionally save results to CSV files</strong> &mdash; choose the datasets you wish to export for further analysis or reporting.\n",
       "        <ul>\n",
       "            <li><code>full</code>: all jobs with all columns (1 row per job)</li>\n",
       "            <li><code>full_summary</code>: all jobs with summary columns only</li>\n",
       "            <li><code>daily</code>: aggregated daily, all columns (1 row per day)</li>\n",
       "            <li><code>daily_summary</code>: aggregated daily, summary columns only</li>\n",
       "            <li><code>total</code>: aggregated total, all columns(1 row totalling all jobs)</li>\n",
       "            <li><code>total_summary</code>: aggregated total, summary columns only</li>\n",
       "            <li><code>all</code>: export all of the above</li>\n",
       "        </ul>\n",
       "        </li>\n",
       "\n",
       "        <li>Click the <b>\"Calculate Carbon Footprint\"</b> button to run the engine and generate the results.</li>\n",
       "    </ul>\n",
       "    </div>\n",
       "    "
      ],
      "text/plain": [
       "<IPython.core.display.HTML object>"
      ]
     },
     "metadata": {},
     "output_type": "display_data"
    },
    {
     "data": {
      "application/vnd.jupyter.widget-view+json": {
       "model_id": "622a7c6b39f446238ac2b52b005d7256",
       "version_major": 2,
       "version_minor": 0
      },
      "text/plain": [
       "VBox(children=(DatePicker(value=datetime.date(2025, 1, 1), description='Start Date:', layout=Layout(width='400…"
      ]
     },
     "metadata": {},
     "output_type": "display_data"
    }
   ],
   "source": [
    "results = jupyter_UI()"
   ]
  },
  {
   "cell_type": "code",
   "execution_count": null,
   "id": "87c5d655",
   "metadata": {},
   "outputs": [],
   "source": []
  }
 ],
 "metadata": {
  "kernelspec": {
   "display_name": "ghpc_env",
   "language": "python",
   "name": "python3"
  },
  "language_info": {
   "codemirror_mode": {
    "name": "ipython",
    "version": 3
   },
   "file_extension": ".py",
   "mimetype": "text/x-python",
   "name": "python",
   "nbconvert_exporter": "python",
   "pygments_lexer": "ipython3",
   "version": "3.11.13"
  }
 },
 "nbformat": 4,
 "nbformat_minor": 5
}
